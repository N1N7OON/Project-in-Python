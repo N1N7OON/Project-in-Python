{
 "cells": [
  {
   "cell_type": "markdown",
   "id": "3bfef1de-6cf3-4410-8c17-4d235deedff5",
   "metadata": {},
   "source": [
    "![Futuristic electric car charging](ev_charging.png)"
   ]
  },
  {
   "cell_type": "markdown",
   "id": "d0e3f658-b4eb-44fe-ae85-76eeef3c4abd",
   "metadata": {},
   "source": [
    "The US Government's Alternative Fuels Data Center collects records of electric vehicle (EV) charging infrastructure, including charging ports and station locations, as well as sales of electric vehicles. With the EV market rapidly evolving, understanding trends in charging facilities and sales is essential to inform strategic planning.\n",
    "\n",
    "As a data scientist working for a leading EV charging network operator, you recognize the potential in this data and start wrangling and visualizing the aggregated yearly data. \n",
    "\n",
    "This yearly data captured in December of each year encompasses a record of EV charging port installations and station localities spanning roughly ten years, capturing both public and private charging environments. \n",
    "___\n",
    "\n",
    "### The Data\n",
    "&nbsp;\n",
    "\n",
    "`private_ev_charging.csv`\n",
    "\n",
    "| Variable   | Description                                          |\n",
    "|------------|------------------------------------------------------|\n",
    "| `year` |  Year of data collection |\n",
    "| `private_ports`| The number of available charging ports owned by private companies in a given year  |\n",
    "| `private_station_locations`   | The number of privately owned station locations for EV charging\n",
    "\n",
    "___\n",
    "\n",
    "`public_ev_charging.csv`\n",
    " \n",
    "| Variable   | Description                                          |\n",
    "|------------|------------------------------------------------------|\n",
    "| `year` |  Year of data collection  |\n",
    "| `public_ports`| The number of available charging ports under public ownership in a given year  |\n",
    "| `public_station_locations`   | The number of publicly owned station locations for EV charging\n",
    "\n",
    "___\n",
    "\n",
    "The sales information is available for each model and year in the `ev_sales.csv` file:\n",
    "\n",
    "| Variable   | Description                                          |\n",
    "|------------|------------------------------------------------------|\n",
    "| `Vehicle` |  Electric vehicle model |\n",
    "| `year`| Year of data collection |\n",
    "| `sales`   | The number of vehicles sold in the US"
   ]
  },
  {
   "cell_type": "code",
   "execution_count": 64,
   "id": "bff36b1c-38f2-4a2c-8e4e-3d357b56fa21",
   "metadata": {
    "executionCancelledAt": null,
    "executionTime": 9,
    "lastExecutedAt": 1713703864750,
    "lastExecutedByKernel": "cbdc5322-f824-469c-9fb1-0e8b7c2bdc09",
    "lastScheduledRunId": null,
    "lastSuccessfullyExecutedCode": "# Import required libraries\nimport pandas as pd\nimport matplotlib.pyplot as plt\nimport seaborn as sns\nimport numpy as np"
   },
   "outputs": [],
   "source": [
    "# Import required libraries\n",
    "import pandas as pd\n",
    "import matplotlib.pyplot as plt\n",
    "import seaborn as sns\n",
    "import numpy as np"
   ]
  },
  {
   "cell_type": "code",
   "execution_count": 65,
   "id": "50c40e0a-b33d-46ad-bccc-c8ad085d07fb",
   "metadata": {
    "executionCancelledAt": null,
    "executionTime": 51,
    "lastExecutedAt": 1713703864801,
    "lastExecutedByKernel": "cbdc5322-f824-469c-9fb1-0e8b7c2bdc09",
    "lastScheduledRunId": null,
    "lastSuccessfullyExecutedCode": "# Start coding here\n# Loading the data\nprivate_ev_charging = pd.read_csv('private_ev_charging.csv')\npublic_ev_charging = pd.read_csv('public_ev_charging.csv')\nev_sales = pd.read_csv('ev_sales.csv')",
    "outputsMetadata": {
     "0": {
      "height": 143,
      "type": "stream"
     }
    }
   },
   "outputs": [],
   "source": [
    "# Start coding here\n",
    "# Loading the data\n",
    "private_ev_charging = pd.read_csv('private_ev_charging.csv')\n",
    "public_ev_charging = pd.read_csv('public_ev_charging.csv')\n",
    "ev_sales = pd.read_csv('ev_sales.csv')"
   ]
  },
  {
   "cell_type": "code",
   "execution_count": 66,
   "id": "e0e65506-0980-47a3-beb3-6ba596f11a9a",
   "metadata": {
    "executionCancelledAt": null,
    "executionTime": 56,
    "lastExecutedAt": 1713703864858,
    "lastExecutedByKernel": "cbdc5322-f824-469c-9fb1-0e8b7c2bdc09",
    "lastScheduledRunId": null,
    "lastSuccessfullyExecutedCode": "private_ev_charging.head(10)",
    "outputsMetadata": {
     "0": {
      "height": 296,
      "type": "dataFrame"
     }
    }
   },
   "outputs": [
    {
     "data": {
      "application/com.datacamp.data-table.v2+json": {
       "table": {
        "data": {
         "index": [
          0,
          1,
          2,
          3,
          4,
          5,
          6,
          7,
          8
         ],
         "private_ports": [
          3695,
          4150,
          5763,
          6048,
          6812,
          9955,
          10647,
          18867,
          19993
         ],
         "private_station_locations": [
          1825,
          1962,
          2331,
          2370,
          2489,
          3078,
          2768,
          4074,
          4435
         ],
         "year": [
          2014,
          2015,
          2016,
          2017,
          2018,
          2019,
          2020,
          2021,
          2022
         ]
        },
        "schema": {
         "fields": [
          {
           "name": "index",
           "type": "integer"
          },
          {
           "name": "year",
           "type": "integer"
          },
          {
           "name": "private_ports",
           "type": "integer"
          },
          {
           "name": "private_station_locations",
           "type": "integer"
          }
         ],
         "pandas_version": "1.4.0",
         "primaryKey": [
          "index"
         ]
        }
       },
       "total_rows": 9,
       "truncation_type": null
      },
      "text/html": [
       "<div>\n",
       "<style scoped>\n",
       "    .dataframe tbody tr th:only-of-type {\n",
       "        vertical-align: middle;\n",
       "    }\n",
       "\n",
       "    .dataframe tbody tr th {\n",
       "        vertical-align: top;\n",
       "    }\n",
       "\n",
       "    .dataframe thead th {\n",
       "        text-align: right;\n",
       "    }\n",
       "</style>\n",
       "<table border=\"1\" class=\"dataframe\">\n",
       "  <thead>\n",
       "    <tr style=\"text-align: right;\">\n",
       "      <th></th>\n",
       "      <th>year</th>\n",
       "      <th>private_ports</th>\n",
       "      <th>private_station_locations</th>\n",
       "    </tr>\n",
       "  </thead>\n",
       "  <tbody>\n",
       "    <tr>\n",
       "      <th>0</th>\n",
       "      <td>2014</td>\n",
       "      <td>3695</td>\n",
       "      <td>1825</td>\n",
       "    </tr>\n",
       "    <tr>\n",
       "      <th>1</th>\n",
       "      <td>2015</td>\n",
       "      <td>4150</td>\n",
       "      <td>1962</td>\n",
       "    </tr>\n",
       "    <tr>\n",
       "      <th>2</th>\n",
       "      <td>2016</td>\n",
       "      <td>5763</td>\n",
       "      <td>2331</td>\n",
       "    </tr>\n",
       "    <tr>\n",
       "      <th>3</th>\n",
       "      <td>2017</td>\n",
       "      <td>6048</td>\n",
       "      <td>2370</td>\n",
       "    </tr>\n",
       "    <tr>\n",
       "      <th>4</th>\n",
       "      <td>2018</td>\n",
       "      <td>6812</td>\n",
       "      <td>2489</td>\n",
       "    </tr>\n",
       "    <tr>\n",
       "      <th>5</th>\n",
       "      <td>2019</td>\n",
       "      <td>9955</td>\n",
       "      <td>3078</td>\n",
       "    </tr>\n",
       "    <tr>\n",
       "      <th>6</th>\n",
       "      <td>2020</td>\n",
       "      <td>10647</td>\n",
       "      <td>2768</td>\n",
       "    </tr>\n",
       "    <tr>\n",
       "      <th>7</th>\n",
       "      <td>2021</td>\n",
       "      <td>18867</td>\n",
       "      <td>4074</td>\n",
       "    </tr>\n",
       "    <tr>\n",
       "      <th>8</th>\n",
       "      <td>2022</td>\n",
       "      <td>19993</td>\n",
       "      <td>4435</td>\n",
       "    </tr>\n",
       "  </tbody>\n",
       "</table>\n",
       "</div>"
      ],
      "text/plain": [
       "   year  private_ports  private_station_locations\n",
       "0  2014           3695                       1825\n",
       "1  2015           4150                       1962\n",
       "2  2016           5763                       2331\n",
       "3  2017           6048                       2370\n",
       "4  2018           6812                       2489\n",
       "5  2019           9955                       3078\n",
       "6  2020          10647                       2768\n",
       "7  2021          18867                       4074\n",
       "8  2022          19993                       4435"
      ]
     },
     "execution_count": 66,
     "metadata": {},
     "output_type": "execute_result"
    }
   ],
   "source": [
    "private_ev_charging.head(10)"
   ]
  },
  {
   "cell_type": "code",
   "execution_count": 67,
   "id": "f07b31e3-40cd-4b8b-bb20-32cd2bc471e6",
   "metadata": {
    "executionCancelledAt": null,
    "executionTime": 55,
    "lastExecutedAt": 1713703864914,
    "lastExecutedByKernel": "cbdc5322-f824-469c-9fb1-0e8b7c2bdc09",
    "lastScheduledRunId": null,
    "lastSuccessfullyExecutedCode": "public_ev_charging.head(10)",
    "outputsMetadata": {
     "0": {
      "height": 321,
      "type": "dataFrame"
     }
    }
   },
   "outputs": [
    {
     "data": {
      "application/com.datacamp.data-table.v2+json": {
       "table": {
        "data": {
         "index": [
          0,
          1,
          2,
          3,
          4,
          5,
          6,
          7,
          8,
          9
         ],
         "public_ports": [
          16619,
          22470,
          26532,
          33165,
          45789,
          56842,
          73838,
          96190,
          114451,
          136513
         ],
         "public_station_locations": [
          6938,
          9207,
          10710,
          13150,
          16170,
          19893,
          23282,
          28602,
          46407,
          53764
         ],
         "year": [
          2013,
          2014,
          2015,
          2016,
          2017,
          2018,
          2019,
          2020,
          2021,
          2022
         ]
        },
        "schema": {
         "fields": [
          {
           "name": "index",
           "type": "integer"
          },
          {
           "name": "year",
           "type": "integer"
          },
          {
           "name": "public_ports",
           "type": "integer"
          },
          {
           "name": "public_station_locations",
           "type": "integer"
          }
         ],
         "pandas_version": "1.4.0",
         "primaryKey": [
          "index"
         ]
        }
       },
       "total_rows": 10,
       "truncation_type": null
      },
      "text/html": [
       "<div>\n",
       "<style scoped>\n",
       "    .dataframe tbody tr th:only-of-type {\n",
       "        vertical-align: middle;\n",
       "    }\n",
       "\n",
       "    .dataframe tbody tr th {\n",
       "        vertical-align: top;\n",
       "    }\n",
       "\n",
       "    .dataframe thead th {\n",
       "        text-align: right;\n",
       "    }\n",
       "</style>\n",
       "<table border=\"1\" class=\"dataframe\">\n",
       "  <thead>\n",
       "    <tr style=\"text-align: right;\">\n",
       "      <th></th>\n",
       "      <th>year</th>\n",
       "      <th>public_ports</th>\n",
       "      <th>public_station_locations</th>\n",
       "    </tr>\n",
       "  </thead>\n",
       "  <tbody>\n",
       "    <tr>\n",
       "      <th>0</th>\n",
       "      <td>2013</td>\n",
       "      <td>16619</td>\n",
       "      <td>6938</td>\n",
       "    </tr>\n",
       "    <tr>\n",
       "      <th>1</th>\n",
       "      <td>2014</td>\n",
       "      <td>22470</td>\n",
       "      <td>9207</td>\n",
       "    </tr>\n",
       "    <tr>\n",
       "      <th>2</th>\n",
       "      <td>2015</td>\n",
       "      <td>26532</td>\n",
       "      <td>10710</td>\n",
       "    </tr>\n",
       "    <tr>\n",
       "      <th>3</th>\n",
       "      <td>2016</td>\n",
       "      <td>33165</td>\n",
       "      <td>13150</td>\n",
       "    </tr>\n",
       "    <tr>\n",
       "      <th>4</th>\n",
       "      <td>2017</td>\n",
       "      <td>45789</td>\n",
       "      <td>16170</td>\n",
       "    </tr>\n",
       "    <tr>\n",
       "      <th>5</th>\n",
       "      <td>2018</td>\n",
       "      <td>56842</td>\n",
       "      <td>19893</td>\n",
       "    </tr>\n",
       "    <tr>\n",
       "      <th>6</th>\n",
       "      <td>2019</td>\n",
       "      <td>73838</td>\n",
       "      <td>23282</td>\n",
       "    </tr>\n",
       "    <tr>\n",
       "      <th>7</th>\n",
       "      <td>2020</td>\n",
       "      <td>96190</td>\n",
       "      <td>28602</td>\n",
       "    </tr>\n",
       "    <tr>\n",
       "      <th>8</th>\n",
       "      <td>2021</td>\n",
       "      <td>114451</td>\n",
       "      <td>46407</td>\n",
       "    </tr>\n",
       "    <tr>\n",
       "      <th>9</th>\n",
       "      <td>2022</td>\n",
       "      <td>136513</td>\n",
       "      <td>53764</td>\n",
       "    </tr>\n",
       "  </tbody>\n",
       "</table>\n",
       "</div>"
      ],
      "text/plain": [
       "   year  public_ports  public_station_locations\n",
       "0  2013         16619                      6938\n",
       "1  2014         22470                      9207\n",
       "2  2015         26532                     10710\n",
       "3  2016         33165                     13150\n",
       "4  2017         45789                     16170\n",
       "5  2018         56842                     19893\n",
       "6  2019         73838                     23282\n",
       "7  2020         96190                     28602\n",
       "8  2021        114451                     46407\n",
       "9  2022        136513                     53764"
      ]
     },
     "execution_count": 67,
     "metadata": {},
     "output_type": "execute_result"
    }
   ],
   "source": [
    "public_ev_charging.head(10)"
   ]
  },
  {
   "cell_type": "code",
   "execution_count": 68,
   "id": "f99ee3df-776c-4af9-a28f-3f685802fbf4",
   "metadata": {
    "executionCancelledAt": null,
    "executionTime": 55,
    "lastExecutedAt": 1713703864969,
    "lastExecutedByKernel": "cbdc5322-f824-469c-9fb1-0e8b7c2bdc09",
    "lastScheduledRunId": null,
    "lastSuccessfullyExecutedCode": "ev_sales.head()",
    "outputsMetadata": {
     "0": {
      "height": 196,
      "type": "dataFrame"
     }
    }
   },
   "outputs": [
    {
     "data": {
      "application/com.datacamp.data-table.v2+json": {
       "table": {
        "data": {
         "Vehicle": [
          "Chevy Volt",
          "Chevy Volt",
          "Chevy Volt",
          "Chevy Volt",
          "Chevy Volt"
         ],
         "index": [
          0,
          1,
          2,
          3,
          4
         ],
         "sales": [
          7671,
          23461,
          23094,
          18805,
          15393
         ],
         "year": [
          2011,
          2012,
          2013,
          2014,
          2015
         ]
        },
        "schema": {
         "fields": [
          {
           "name": "index",
           "type": "integer"
          },
          {
           "name": "Vehicle",
           "type": "string"
          },
          {
           "name": "year",
           "type": "integer"
          },
          {
           "name": "sales",
           "type": "number"
          }
         ],
         "pandas_version": "1.4.0",
         "primaryKey": [
          "index"
         ]
        }
       },
       "total_rows": 5,
       "truncation_type": null
      },
      "text/html": [
       "<div>\n",
       "<style scoped>\n",
       "    .dataframe tbody tr th:only-of-type {\n",
       "        vertical-align: middle;\n",
       "    }\n",
       "\n",
       "    .dataframe tbody tr th {\n",
       "        vertical-align: top;\n",
       "    }\n",
       "\n",
       "    .dataframe thead th {\n",
       "        text-align: right;\n",
       "    }\n",
       "</style>\n",
       "<table border=\"1\" class=\"dataframe\">\n",
       "  <thead>\n",
       "    <tr style=\"text-align: right;\">\n",
       "      <th></th>\n",
       "      <th>Vehicle</th>\n",
       "      <th>year</th>\n",
       "      <th>sales</th>\n",
       "    </tr>\n",
       "  </thead>\n",
       "  <tbody>\n",
       "    <tr>\n",
       "      <th>0</th>\n",
       "      <td>Chevy Volt</td>\n",
       "      <td>2011</td>\n",
       "      <td>7671.0</td>\n",
       "    </tr>\n",
       "    <tr>\n",
       "      <th>1</th>\n",
       "      <td>Chevy Volt</td>\n",
       "      <td>2012</td>\n",
       "      <td>23461.0</td>\n",
       "    </tr>\n",
       "    <tr>\n",
       "      <th>2</th>\n",
       "      <td>Chevy Volt</td>\n",
       "      <td>2013</td>\n",
       "      <td>23094.0</td>\n",
       "    </tr>\n",
       "    <tr>\n",
       "      <th>3</th>\n",
       "      <td>Chevy Volt</td>\n",
       "      <td>2014</td>\n",
       "      <td>18805.0</td>\n",
       "    </tr>\n",
       "    <tr>\n",
       "      <th>4</th>\n",
       "      <td>Chevy Volt</td>\n",
       "      <td>2015</td>\n",
       "      <td>15393.0</td>\n",
       "    </tr>\n",
       "  </tbody>\n",
       "</table>\n",
       "</div>"
      ],
      "text/plain": [
       "      Vehicle  year    sales\n",
       "0  Chevy Volt  2011   7671.0\n",
       "1  Chevy Volt  2012  23461.0\n",
       "2  Chevy Volt  2013  23094.0\n",
       "3  Chevy Volt  2014  18805.0\n",
       "4  Chevy Volt  2015  15393.0"
      ]
     },
     "execution_count": 68,
     "metadata": {},
     "output_type": "execute_result"
    }
   ],
   "source": [
    "ev_sales.head()"
   ]
  },
  {
   "cell_type": "code",
   "execution_count": 69,
   "id": "0c949f74-48b5-4a4a-9308-48012ec09eb5",
   "metadata": {
    "executionCancelledAt": null,
    "executionTime": 196,
    "lastExecutedAt": 1713703865165,
    "lastExecutedByKernel": "cbdc5322-f824-469c-9fb1-0e8b7c2bdc09",
    "lastScheduledRunId": null,
    "lastSuccessfullyExecutedCode": "private_ev_charging.dtypes"
   },
   "outputs": [
    {
     "data": {
      "text/plain": [
       "year                         int64\n",
       "private_ports                int64\n",
       "private_station_locations    int64\n",
       "dtype: object"
      ]
     },
     "execution_count": 69,
     "metadata": {},
     "output_type": "execute_result"
    }
   ],
   "source": [
    "private_ev_charging.dtypes"
   ]
  },
  {
   "cell_type": "code",
   "execution_count": 70,
   "id": "2d72f308-aee6-4e20-ab00-cd57189ebede",
   "metadata": {
    "executionCancelledAt": null,
    "executionTime": 75,
    "lastExecutedAt": 1713703865241,
    "lastExecutedByKernel": "cbdc5322-f824-469c-9fb1-0e8b7c2bdc09",
    "lastScheduledRunId": null,
    "lastSuccessfullyExecutedCode": "public_ev_charging.dtypes"
   },
   "outputs": [
    {
     "data": {
      "text/plain": [
       "year                        int64\n",
       "public_ports                int64\n",
       "public_station_locations    int64\n",
       "dtype: object"
      ]
     },
     "execution_count": 70,
     "metadata": {},
     "output_type": "execute_result"
    }
   ],
   "source": [
    "public_ev_charging.dtypes"
   ]
  },
  {
   "cell_type": "code",
   "execution_count": 71,
   "id": "efa9f80f-fa52-4e80-a124-f8e6ab12420e",
   "metadata": {
    "executionCancelledAt": null,
    "executionTime": 48,
    "lastExecutedAt": 1713703865289,
    "lastExecutedByKernel": "cbdc5322-f824-469c-9fb1-0e8b7c2bdc09",
    "lastScheduledRunId": null,
    "lastSuccessfullyExecutedCode": "ev_sales.isna().sum()",
    "outputsMetadata": {
     "0": {
      "height": 146,
      "type": "dataFrame"
     }
    }
   },
   "outputs": [
    {
     "data": {
      "application/com.datacamp.data-table.v2+json": {
       "table": {
        "data": {
         "0": [
          0,
          0,
          254
         ],
         "index": [
          "Vehicle",
          "year",
          "sales"
         ]
        },
        "schema": {
         "fields": [
          {
           "name": "index",
           "type": "string"
          },
          {
           "name": "0",
           "type": "integer"
          }
         ],
         "pandas_version": "1.4.0",
         "primaryKey": [
          "index"
         ]
        }
       },
       "total_rows": 3,
       "truncation_type": null
      },
      "text/plain": [
       "Vehicle      0\n",
       "year         0\n",
       "sales      254\n",
       "dtype: int64"
      ]
     },
     "execution_count": 71,
     "metadata": {},
     "output_type": "execute_result"
    }
   ],
   "source": [
    "ev_sales.isna().sum()"
   ]
  },
  {
   "cell_type": "code",
   "execution_count": 72,
   "id": "01541352-325d-4387-bde7-83317a2e8900",
   "metadata": {
    "executionCancelledAt": null,
    "executionTime": 51,
    "lastExecutedAt": 1713703865341,
    "lastExecutedByKernel": "cbdc5322-f824-469c-9fb1-0e8b7c2bdc09",
    "lastScheduledRunId": null,
    "lastSuccessfullyExecutedCode": "ev_sales.value_counts"
   },
   "outputs": [
    {
     "data": {
      "text/plain": [
       "<bound method DataFrame.value_counts of          Vehicle  year    sales\n",
       "0     Chevy Volt  2011   7671.0\n",
       "1     Chevy Volt  2012  23461.0\n",
       "2     Chevy Volt  2013  23094.0\n",
       "3     Chevy Volt  2014  18805.0\n",
       "4     Chevy Volt  2015  15393.0\n",
       "..           ...   ...      ...\n",
       "490  Kia Niro EV  2015      NaN\n",
       "491  Kia Niro EV  2016      NaN\n",
       "492  Kia Niro EV  2017      NaN\n",
       "493  Kia Niro EV  2018      NaN\n",
       "494  Kia Niro EV  2019   1562.0\n",
       "\n",
       "[495 rows x 3 columns]>"
      ]
     },
     "execution_count": 72,
     "metadata": {},
     "output_type": "execute_result"
    }
   ],
   "source": [
    "ev_sales.value_counts"
   ]
  },
  {
   "cell_type": "code",
   "execution_count": 73,
   "id": "2e406f8c-3c69-4f57-9d86-dad0471fc976",
   "metadata": {
    "executionCancelledAt": null,
    "executionTime": 52,
    "lastExecutedAt": 1713703865393,
    "lastExecutedByKernel": "cbdc5322-f824-469c-9fb1-0e8b7c2bdc09",
    "lastScheduledRunId": null,
    "lastSuccessfullyExecutedCode": "ev_sales_mean = ev_sales.groupby('year')['sales'].mean()"
   },
   "outputs": [],
   "source": [
    "ev_sales_mean = ev_sales.groupby('year')['sales'].mean()"
   ]
  },
  {
   "cell_type": "code",
   "execution_count": 74,
   "id": "54c628d7-cca0-4884-b0ee-94565fbad260",
   "metadata": {
    "executionCancelledAt": null,
    "executionTime": 52,
    "lastExecutedAt": 1713703865445,
    "lastExecutedByKernel": "cbdc5322-f824-469c-9fb1-0e8b7c2bdc09",
    "lastScheduledRunId": null,
    "lastSuccessfullyExecutedCode": "ev_sales_mean",
    "outputsMetadata": {
     "0": {
      "height": 296,
      "type": "dataFrame"
     }
    }
   },
   "outputs": [
    {
     "data": {
      "application/com.datacamp.data-table.v2+json": {
       "table": {
        "data": {
         "sales": [
          4440.75,
          4833.7272727273,
          6068.875,
          5403.7272727273,
          4223.0740740741,
          5320.5333333333,
          4770.2682926829,
          8029.2222222222,
          7258.7555555556
         ],
         "year": [
          2011,
          2012,
          2013,
          2014,
          2015,
          2016,
          2017,
          2018,
          2019
         ]
        },
        "schema": {
         "fields": [
          {
           "name": "year",
           "type": "integer"
          },
          {
           "name": "sales",
           "type": "number"
          }
         ],
         "pandas_version": "1.4.0",
         "primaryKey": [
          "year"
         ]
        }
       },
       "total_rows": 9,
       "truncation_type": null
      },
      "text/plain": [
       "year\n",
       "2011    4440.750000\n",
       "2012    4833.727273\n",
       "2013    6068.875000\n",
       "2014    5403.727273\n",
       "2015    4223.074074\n",
       "2016    5320.533333\n",
       "2017    4770.268293\n",
       "2018    8029.222222\n",
       "2019    7258.755556\n",
       "Name: sales, dtype: float64"
      ]
     },
     "execution_count": 74,
     "metadata": {},
     "output_type": "execute_result"
    }
   ],
   "source": [
    "ev_sales_mean"
   ]
  },
  {
   "cell_type": "code",
   "execution_count": 75,
   "id": "f5820884-d7df-47a9-9ad1-e61cdc26ef9b",
   "metadata": {
    "executionCancelledAt": null,
    "executionTime": 52,
    "lastExecutedAt": 1713703865498,
    "lastExecutedByKernel": "cbdc5322-f824-469c-9fb1-0e8b7c2bdc09",
    "lastScheduledRunId": null,
    "lastSuccessfullyExecutedCode": "np.std(ev_sales['sales'])"
   },
   "outputs": [
    {
     "data": {
      "text/plain": [
       "14734.032428474804"
      ]
     },
     "execution_count": 75,
     "metadata": {},
     "output_type": "execute_result"
    }
   ],
   "source": [
    "np.std(ev_sales['sales'])"
   ]
  },
  {
   "cell_type": "code",
   "execution_count": 76,
   "id": "e5f26a19-c347-4330-8866-b8e8c0204b35",
   "metadata": {
    "executionCancelledAt": null,
    "executionTime": 47,
    "lastExecutedAt": 1713703865545,
    "lastExecutedByKernel": "cbdc5322-f824-469c-9fb1-0e8b7c2bdc09",
    "lastScheduledRunId": null,
    "lastSuccessfullyExecutedCode": "np.mean(ev_sales['sales'])"
   },
   "outputs": [
    {
     "data": {
      "text/plain": [
       "5992.103734439834"
      ]
     },
     "execution_count": 76,
     "metadata": {},
     "output_type": "execute_result"
    }
   ],
   "source": [
    "np.mean(ev_sales['sales'])"
   ]
  },
  {
   "cell_type": "code",
   "execution_count": 77,
   "id": "8023b52c-c4cc-42a0-baa6-e447b1755615",
   "metadata": {
    "executionCancelledAt": null,
    "executionTime": 47,
    "lastExecutedAt": 1713703865593,
    "lastExecutedByKernel": "cbdc5322-f824-469c-9fb1-0e8b7c2bdc09",
    "lastScheduledRunId": null,
    "lastSuccessfullyExecutedCode": "# Join the public and private DataFrames\ndf_comblined = private_ev_charging.merge(public_ev_charging, on='year', how='outer', indicator=True)"
   },
   "outputs": [],
   "source": [
    "# Join the public and private DataFrames\n",
    "df_comblined = private_ev_charging.merge(public_ev_charging, on='year', how='outer', indicator=True)"
   ]
  },
  {
   "cell_type": "code",
   "execution_count": 78,
   "id": "dddb290b-c045-4456-b487-770903a71b50",
   "metadata": {
    "executionCancelledAt": null,
    "executionTime": 48,
    "lastExecutedAt": 1713703865641,
    "lastExecutedByKernel": "cbdc5322-f824-469c-9fb1-0e8b7c2bdc09",
    "lastScheduledRunId": null,
    "lastSuccessfullyExecutedCode": "df_comblined",
    "outputsMetadata": {
     "0": {
      "height": 321,
      "type": "dataFrame"
     }
    }
   },
   "outputs": [
    {
     "data": {
      "application/com.datacamp.data-table.v2+json": {
       "table": {
        "data": {
         "_merge": [
          "both",
          "both",
          "both",
          "both",
          "both",
          "both",
          "both",
          "both",
          "both",
          "right_only"
         ],
         "index": [
          0,
          1,
          2,
          3,
          4,
          5,
          6,
          7,
          8,
          9
         ],
         "private_ports": [
          3695,
          4150,
          5763,
          6048,
          6812,
          9955,
          10647,
          18867,
          19993,
          null
         ],
         "private_station_locations": [
          1825,
          1962,
          2331,
          2370,
          2489,
          3078,
          2768,
          4074,
          4435,
          null
         ],
         "public_ports": [
          22470,
          26532,
          33165,
          45789,
          56842,
          73838,
          96190,
          114451,
          136513,
          16619
         ],
         "public_station_locations": [
          9207,
          10710,
          13150,
          16170,
          19893,
          23282,
          28602,
          46407,
          53764,
          6938
         ],
         "year": [
          2014,
          2015,
          2016,
          2017,
          2018,
          2019,
          2020,
          2021,
          2022,
          2013
         ]
        },
        "schema": {
         "fields": [
          {
           "name": "index",
           "type": "integer"
          },
          {
           "name": "year",
           "type": "integer"
          },
          {
           "name": "private_ports",
           "type": "number"
          },
          {
           "name": "private_station_locations",
           "type": "number"
          },
          {
           "name": "public_ports",
           "type": "integer"
          },
          {
           "name": "public_station_locations",
           "type": "integer"
          },
          {
           "constraints": {
            "enum": [
             "left_only",
             "right_only",
             "both"
            ]
           },
           "name": "_merge",
           "ordered": false,
           "type": "any"
          }
         ],
         "pandas_version": "1.4.0",
         "primaryKey": [
          "index"
         ]
        }
       },
       "total_rows": 10,
       "truncation_type": null
      },
      "text/html": [
       "<div>\n",
       "<style scoped>\n",
       "    .dataframe tbody tr th:only-of-type {\n",
       "        vertical-align: middle;\n",
       "    }\n",
       "\n",
       "    .dataframe tbody tr th {\n",
       "        vertical-align: top;\n",
       "    }\n",
       "\n",
       "    .dataframe thead th {\n",
       "        text-align: right;\n",
       "    }\n",
       "</style>\n",
       "<table border=\"1\" class=\"dataframe\">\n",
       "  <thead>\n",
       "    <tr style=\"text-align: right;\">\n",
       "      <th></th>\n",
       "      <th>year</th>\n",
       "      <th>private_ports</th>\n",
       "      <th>private_station_locations</th>\n",
       "      <th>public_ports</th>\n",
       "      <th>public_station_locations</th>\n",
       "      <th>_merge</th>\n",
       "    </tr>\n",
       "  </thead>\n",
       "  <tbody>\n",
       "    <tr>\n",
       "      <th>0</th>\n",
       "      <td>2014</td>\n",
       "      <td>3695.0</td>\n",
       "      <td>1825.0</td>\n",
       "      <td>22470</td>\n",
       "      <td>9207</td>\n",
       "      <td>both</td>\n",
       "    </tr>\n",
       "    <tr>\n",
       "      <th>1</th>\n",
       "      <td>2015</td>\n",
       "      <td>4150.0</td>\n",
       "      <td>1962.0</td>\n",
       "      <td>26532</td>\n",
       "      <td>10710</td>\n",
       "      <td>both</td>\n",
       "    </tr>\n",
       "    <tr>\n",
       "      <th>2</th>\n",
       "      <td>2016</td>\n",
       "      <td>5763.0</td>\n",
       "      <td>2331.0</td>\n",
       "      <td>33165</td>\n",
       "      <td>13150</td>\n",
       "      <td>both</td>\n",
       "    </tr>\n",
       "    <tr>\n",
       "      <th>3</th>\n",
       "      <td>2017</td>\n",
       "      <td>6048.0</td>\n",
       "      <td>2370.0</td>\n",
       "      <td>45789</td>\n",
       "      <td>16170</td>\n",
       "      <td>both</td>\n",
       "    </tr>\n",
       "    <tr>\n",
       "      <th>4</th>\n",
       "      <td>2018</td>\n",
       "      <td>6812.0</td>\n",
       "      <td>2489.0</td>\n",
       "      <td>56842</td>\n",
       "      <td>19893</td>\n",
       "      <td>both</td>\n",
       "    </tr>\n",
       "    <tr>\n",
       "      <th>5</th>\n",
       "      <td>2019</td>\n",
       "      <td>9955.0</td>\n",
       "      <td>3078.0</td>\n",
       "      <td>73838</td>\n",
       "      <td>23282</td>\n",
       "      <td>both</td>\n",
       "    </tr>\n",
       "    <tr>\n",
       "      <th>6</th>\n",
       "      <td>2020</td>\n",
       "      <td>10647.0</td>\n",
       "      <td>2768.0</td>\n",
       "      <td>96190</td>\n",
       "      <td>28602</td>\n",
       "      <td>both</td>\n",
       "    </tr>\n",
       "    <tr>\n",
       "      <th>7</th>\n",
       "      <td>2021</td>\n",
       "      <td>18867.0</td>\n",
       "      <td>4074.0</td>\n",
       "      <td>114451</td>\n",
       "      <td>46407</td>\n",
       "      <td>both</td>\n",
       "    </tr>\n",
       "    <tr>\n",
       "      <th>8</th>\n",
       "      <td>2022</td>\n",
       "      <td>19993.0</td>\n",
       "      <td>4435.0</td>\n",
       "      <td>136513</td>\n",
       "      <td>53764</td>\n",
       "      <td>both</td>\n",
       "    </tr>\n",
       "    <tr>\n",
       "      <th>9</th>\n",
       "      <td>2013</td>\n",
       "      <td>NaN</td>\n",
       "      <td>NaN</td>\n",
       "      <td>16619</td>\n",
       "      <td>6938</td>\n",
       "      <td>right_only</td>\n",
       "    </tr>\n",
       "  </tbody>\n",
       "</table>\n",
       "</div>"
      ],
      "text/plain": [
       "   year  private_ports  ...  public_station_locations      _merge\n",
       "0  2014         3695.0  ...                      9207        both\n",
       "1  2015         4150.0  ...                     10710        both\n",
       "2  2016         5763.0  ...                     13150        both\n",
       "3  2017         6048.0  ...                     16170        both\n",
       "4  2018         6812.0  ...                     19893        both\n",
       "5  2019         9955.0  ...                     23282        both\n",
       "6  2020        10647.0  ...                     28602        both\n",
       "7  2021        18867.0  ...                     46407        both\n",
       "8  2022        19993.0  ...                     53764        both\n",
       "9  2013            NaN  ...                      6938  right_only\n",
       "\n",
       "[10 rows x 6 columns]"
      ]
     },
     "execution_count": 78,
     "metadata": {},
     "output_type": "execute_result"
    }
   ],
   "source": [
    "df_comblined"
   ]
  },
  {
   "cell_type": "code",
   "execution_count": 79,
   "id": "3f6f2cd0-de06-43df-90b3-9e75a7ba4d6c",
   "metadata": {
    "executionCancelledAt": null,
    "executionTime": 48,
    "lastExecutedAt": 1713703865689,
    "lastExecutedByKernel": "cbdc5322-f824-469c-9fb1-0e8b7c2bdc09",
    "lastScheduledRunId": null,
    "lastSuccessfullyExecutedCode": "# Filter out missing data\ndf_temp = df_comblined[df_comblined['_merge']=='both']"
   },
   "outputs": [],
   "source": [
    "# Filter out missing data\n",
    "df_temp = df_comblined[df_comblined['_merge']=='both']"
   ]
  },
  {
   "cell_type": "code",
   "execution_count": 80,
   "id": "18ddc780-ea38-4e0d-baf9-d83865183351",
   "metadata": {
    "executionCancelledAt": null,
    "executionTime": 52,
    "lastExecutedAt": 1713703865741,
    "lastExecutedByKernel": "cbdc5322-f824-469c-9fb1-0e8b7c2bdc09",
    "lastScheduledRunId": null,
    "lastSuccessfullyExecutedCode": "df_temp",
    "outputsMetadata": {
     "0": {
      "height": 296,
      "type": "dataFrame"
     }
    }
   },
   "outputs": [
    {
     "data": {
      "application/com.datacamp.data-table.v2+json": {
       "table": {
        "data": {
         "_merge": [
          "both",
          "both",
          "both",
          "both",
          "both",
          "both",
          "both",
          "both",
          "both"
         ],
         "index": [
          0,
          1,
          2,
          3,
          4,
          5,
          6,
          7,
          8
         ],
         "private_ports": [
          3695,
          4150,
          5763,
          6048,
          6812,
          9955,
          10647,
          18867,
          19993
         ],
         "private_station_locations": [
          1825,
          1962,
          2331,
          2370,
          2489,
          3078,
          2768,
          4074,
          4435
         ],
         "public_ports": [
          22470,
          26532,
          33165,
          45789,
          56842,
          73838,
          96190,
          114451,
          136513
         ],
         "public_station_locations": [
          9207,
          10710,
          13150,
          16170,
          19893,
          23282,
          28602,
          46407,
          53764
         ],
         "year": [
          2014,
          2015,
          2016,
          2017,
          2018,
          2019,
          2020,
          2021,
          2022
         ]
        },
        "schema": {
         "fields": [
          {
           "name": "index",
           "type": "integer"
          },
          {
           "name": "year",
           "type": "integer"
          },
          {
           "name": "private_ports",
           "type": "number"
          },
          {
           "name": "private_station_locations",
           "type": "number"
          },
          {
           "name": "public_ports",
           "type": "integer"
          },
          {
           "name": "public_station_locations",
           "type": "integer"
          },
          {
           "constraints": {
            "enum": [
             "left_only",
             "right_only",
             "both"
            ]
           },
           "name": "_merge",
           "ordered": false,
           "type": "any"
          }
         ],
         "pandas_version": "1.4.0",
         "primaryKey": [
          "index"
         ]
        }
       },
       "total_rows": 9,
       "truncation_type": null
      },
      "text/html": [
       "<div>\n",
       "<style scoped>\n",
       "    .dataframe tbody tr th:only-of-type {\n",
       "        vertical-align: middle;\n",
       "    }\n",
       "\n",
       "    .dataframe tbody tr th {\n",
       "        vertical-align: top;\n",
       "    }\n",
       "\n",
       "    .dataframe thead th {\n",
       "        text-align: right;\n",
       "    }\n",
       "</style>\n",
       "<table border=\"1\" class=\"dataframe\">\n",
       "  <thead>\n",
       "    <tr style=\"text-align: right;\">\n",
       "      <th></th>\n",
       "      <th>year</th>\n",
       "      <th>private_ports</th>\n",
       "      <th>private_station_locations</th>\n",
       "      <th>public_ports</th>\n",
       "      <th>public_station_locations</th>\n",
       "      <th>_merge</th>\n",
       "    </tr>\n",
       "  </thead>\n",
       "  <tbody>\n",
       "    <tr>\n",
       "      <th>0</th>\n",
       "      <td>2014</td>\n",
       "      <td>3695.0</td>\n",
       "      <td>1825.0</td>\n",
       "      <td>22470</td>\n",
       "      <td>9207</td>\n",
       "      <td>both</td>\n",
       "    </tr>\n",
       "    <tr>\n",
       "      <th>1</th>\n",
       "      <td>2015</td>\n",
       "      <td>4150.0</td>\n",
       "      <td>1962.0</td>\n",
       "      <td>26532</td>\n",
       "      <td>10710</td>\n",
       "      <td>both</td>\n",
       "    </tr>\n",
       "    <tr>\n",
       "      <th>2</th>\n",
       "      <td>2016</td>\n",
       "      <td>5763.0</td>\n",
       "      <td>2331.0</td>\n",
       "      <td>33165</td>\n",
       "      <td>13150</td>\n",
       "      <td>both</td>\n",
       "    </tr>\n",
       "    <tr>\n",
       "      <th>3</th>\n",
       "      <td>2017</td>\n",
       "      <td>6048.0</td>\n",
       "      <td>2370.0</td>\n",
       "      <td>45789</td>\n",
       "      <td>16170</td>\n",
       "      <td>both</td>\n",
       "    </tr>\n",
       "    <tr>\n",
       "      <th>4</th>\n",
       "      <td>2018</td>\n",
       "      <td>6812.0</td>\n",
       "      <td>2489.0</td>\n",
       "      <td>56842</td>\n",
       "      <td>19893</td>\n",
       "      <td>both</td>\n",
       "    </tr>\n",
       "    <tr>\n",
       "      <th>5</th>\n",
       "      <td>2019</td>\n",
       "      <td>9955.0</td>\n",
       "      <td>3078.0</td>\n",
       "      <td>73838</td>\n",
       "      <td>23282</td>\n",
       "      <td>both</td>\n",
       "    </tr>\n",
       "    <tr>\n",
       "      <th>6</th>\n",
       "      <td>2020</td>\n",
       "      <td>10647.0</td>\n",
       "      <td>2768.0</td>\n",
       "      <td>96190</td>\n",
       "      <td>28602</td>\n",
       "      <td>both</td>\n",
       "    </tr>\n",
       "    <tr>\n",
       "      <th>7</th>\n",
       "      <td>2021</td>\n",
       "      <td>18867.0</td>\n",
       "      <td>4074.0</td>\n",
       "      <td>114451</td>\n",
       "      <td>46407</td>\n",
       "      <td>both</td>\n",
       "    </tr>\n",
       "    <tr>\n",
       "      <th>8</th>\n",
       "      <td>2022</td>\n",
       "      <td>19993.0</td>\n",
       "      <td>4435.0</td>\n",
       "      <td>136513</td>\n",
       "      <td>53764</td>\n",
       "      <td>both</td>\n",
       "    </tr>\n",
       "  </tbody>\n",
       "</table>\n",
       "</div>"
      ],
      "text/plain": [
       "   year  private_ports  ...  public_station_locations  _merge\n",
       "0  2014         3695.0  ...                      9207    both\n",
       "1  2015         4150.0  ...                     10710    both\n",
       "2  2016         5763.0  ...                     13150    both\n",
       "3  2017         6048.0  ...                     16170    both\n",
       "4  2018         6812.0  ...                     19893    both\n",
       "5  2019         9955.0  ...                     23282    both\n",
       "6  2020        10647.0  ...                     28602    both\n",
       "7  2021        18867.0  ...                     46407    both\n",
       "8  2022        19993.0  ...                     53764    both\n",
       "\n",
       "[9 rows x 6 columns]"
      ]
     },
     "execution_count": 80,
     "metadata": {},
     "output_type": "execute_result"
    }
   ],
   "source": [
    "df_temp"
   ]
  },
  {
   "cell_type": "code",
   "execution_count": 81,
   "id": "28bd42aa-5bc1-4b6c-a676-1b7696a17c64",
   "metadata": {
    "executionCancelledAt": null,
    "executionTime": 44,
    "lastExecutedAt": 1713703865785,
    "lastExecutedByKernel": "cbdc5322-f824-469c-9fb1-0e8b7c2bdc09",
    "lastScheduledRunId": null,
    "lastSuccessfullyExecutedCode": "# Remove irrelevant columns\ndf_temp = df_temp.drop(columns=['_merge'])"
   },
   "outputs": [],
   "source": [
    "# Remove irrelevant columns\n",
    "df_temp = df_temp.drop(columns=['_merge'])"
   ]
  },
  {
   "cell_type": "code",
   "execution_count": 82,
   "id": "3817d29f-8b32-4741-bea5-b0cd5b8b29e7",
   "metadata": {
    "executionCancelledAt": null,
    "executionTime": 52,
    "lastExecutedAt": 1713703865837,
    "lastExecutedByKernel": "cbdc5322-f824-469c-9fb1-0e8b7c2bdc09",
    "lastScheduledRunId": null,
    "lastSuccessfullyExecutedCode": "df_temp",
    "outputsMetadata": {
     "0": {
      "height": 296,
      "type": "dataFrame"
     }
    }
   },
   "outputs": [
    {
     "data": {
      "application/com.datacamp.data-table.v2+json": {
       "table": {
        "data": {
         "index": [
          0,
          1,
          2,
          3,
          4,
          5,
          6,
          7,
          8
         ],
         "private_ports": [
          3695,
          4150,
          5763,
          6048,
          6812,
          9955,
          10647,
          18867,
          19993
         ],
         "private_station_locations": [
          1825,
          1962,
          2331,
          2370,
          2489,
          3078,
          2768,
          4074,
          4435
         ],
         "public_ports": [
          22470,
          26532,
          33165,
          45789,
          56842,
          73838,
          96190,
          114451,
          136513
         ],
         "public_station_locations": [
          9207,
          10710,
          13150,
          16170,
          19893,
          23282,
          28602,
          46407,
          53764
         ],
         "year": [
          2014,
          2015,
          2016,
          2017,
          2018,
          2019,
          2020,
          2021,
          2022
         ]
        },
        "schema": {
         "fields": [
          {
           "name": "index",
           "type": "integer"
          },
          {
           "name": "year",
           "type": "integer"
          },
          {
           "name": "private_ports",
           "type": "number"
          },
          {
           "name": "private_station_locations",
           "type": "number"
          },
          {
           "name": "public_ports",
           "type": "integer"
          },
          {
           "name": "public_station_locations",
           "type": "integer"
          }
         ],
         "pandas_version": "1.4.0",
         "primaryKey": [
          "index"
         ]
        }
       },
       "total_rows": 9,
       "truncation_type": null
      },
      "text/html": [
       "<div>\n",
       "<style scoped>\n",
       "    .dataframe tbody tr th:only-of-type {\n",
       "        vertical-align: middle;\n",
       "    }\n",
       "\n",
       "    .dataframe tbody tr th {\n",
       "        vertical-align: top;\n",
       "    }\n",
       "\n",
       "    .dataframe thead th {\n",
       "        text-align: right;\n",
       "    }\n",
       "</style>\n",
       "<table border=\"1\" class=\"dataframe\">\n",
       "  <thead>\n",
       "    <tr style=\"text-align: right;\">\n",
       "      <th></th>\n",
       "      <th>year</th>\n",
       "      <th>private_ports</th>\n",
       "      <th>private_station_locations</th>\n",
       "      <th>public_ports</th>\n",
       "      <th>public_station_locations</th>\n",
       "    </tr>\n",
       "  </thead>\n",
       "  <tbody>\n",
       "    <tr>\n",
       "      <th>0</th>\n",
       "      <td>2014</td>\n",
       "      <td>3695.0</td>\n",
       "      <td>1825.0</td>\n",
       "      <td>22470</td>\n",
       "      <td>9207</td>\n",
       "    </tr>\n",
       "    <tr>\n",
       "      <th>1</th>\n",
       "      <td>2015</td>\n",
       "      <td>4150.0</td>\n",
       "      <td>1962.0</td>\n",
       "      <td>26532</td>\n",
       "      <td>10710</td>\n",
       "    </tr>\n",
       "    <tr>\n",
       "      <th>2</th>\n",
       "      <td>2016</td>\n",
       "      <td>5763.0</td>\n",
       "      <td>2331.0</td>\n",
       "      <td>33165</td>\n",
       "      <td>13150</td>\n",
       "    </tr>\n",
       "    <tr>\n",
       "      <th>3</th>\n",
       "      <td>2017</td>\n",
       "      <td>6048.0</td>\n",
       "      <td>2370.0</td>\n",
       "      <td>45789</td>\n",
       "      <td>16170</td>\n",
       "    </tr>\n",
       "    <tr>\n",
       "      <th>4</th>\n",
       "      <td>2018</td>\n",
       "      <td>6812.0</td>\n",
       "      <td>2489.0</td>\n",
       "      <td>56842</td>\n",
       "      <td>19893</td>\n",
       "    </tr>\n",
       "    <tr>\n",
       "      <th>5</th>\n",
       "      <td>2019</td>\n",
       "      <td>9955.0</td>\n",
       "      <td>3078.0</td>\n",
       "      <td>73838</td>\n",
       "      <td>23282</td>\n",
       "    </tr>\n",
       "    <tr>\n",
       "      <th>6</th>\n",
       "      <td>2020</td>\n",
       "      <td>10647.0</td>\n",
       "      <td>2768.0</td>\n",
       "      <td>96190</td>\n",
       "      <td>28602</td>\n",
       "    </tr>\n",
       "    <tr>\n",
       "      <th>7</th>\n",
       "      <td>2021</td>\n",
       "      <td>18867.0</td>\n",
       "      <td>4074.0</td>\n",
       "      <td>114451</td>\n",
       "      <td>46407</td>\n",
       "    </tr>\n",
       "    <tr>\n",
       "      <th>8</th>\n",
       "      <td>2022</td>\n",
       "      <td>19993.0</td>\n",
       "      <td>4435.0</td>\n",
       "      <td>136513</td>\n",
       "      <td>53764</td>\n",
       "    </tr>\n",
       "  </tbody>\n",
       "</table>\n",
       "</div>"
      ],
      "text/plain": [
       "   year  private_ports  ...  public_ports  public_station_locations\n",
       "0  2014         3695.0  ...         22470                      9207\n",
       "1  2015         4150.0  ...         26532                     10710\n",
       "2  2016         5763.0  ...         33165                     13150\n",
       "3  2017         6048.0  ...         45789                     16170\n",
       "4  2018         6812.0  ...         56842                     19893\n",
       "5  2019         9955.0  ...         73838                     23282\n",
       "6  2020        10647.0  ...         96190                     28602\n",
       "7  2021        18867.0  ...        114451                     46407\n",
       "8  2022        19993.0  ...        136513                     53764\n",
       "\n",
       "[9 rows x 5 columns]"
      ]
     },
     "execution_count": 82,
     "metadata": {},
     "output_type": "execute_result"
    }
   ],
   "source": [
    "df_temp"
   ]
  },
  {
   "cell_type": "code",
   "execution_count": 83,
   "id": "afc3135d-44b5-4d5c-a9af-95ab9a3075a7",
   "metadata": {
    "executionCancelledAt": null,
    "executionTime": 57,
    "lastExecutedAt": 1713703865895,
    "lastExecutedByKernel": "cbdc5322-f824-469c-9fb1-0e8b7c2bdc09",
    "lastScheduledRunId": null,
    "lastSuccessfullyExecutedCode": "# Join with aggregated sales DataFrame\n# Group by year and add sales\nev_total_sales = ev_sales.groupby('year')['sales'].sum().reset_index()"
   },
   "outputs": [],
   "source": [
    "# Join with aggregated sales DataFrame\n",
    "# Group by year and add sales\n",
    "ev_total_sales = ev_sales.groupby('year')['sales'].sum().reset_index()"
   ]
  },
  {
   "cell_type": "code",
   "execution_count": 84,
   "id": "643a38c5-4d51-4ebf-bb85-6dcacb697663",
   "metadata": {
    "executionCancelledAt": null,
    "executionTime": 56,
    "lastExecutedAt": 1713703865951,
    "lastExecutedByKernel": "cbdc5322-f824-469c-9fb1-0e8b7c2bdc09",
    "lastScheduledRunId": null,
    "lastSuccessfullyExecutedCode": "# Inspect the data\nev_total_sales.head(15)",
    "outputsMetadata": {
     "0": {
      "height": 296,
      "type": "dataFrame"
     }
    }
   },
   "outputs": [
    {
     "data": {
      "application/com.datacamp.data-table.v2+json": {
       "table": {
        "data": {
         "index": [
          0,
          1,
          2,
          3,
          4,
          5,
          6,
          7,
          8
         ],
         "sales": [
          17763,
          53171,
          97102,
          118882,
          114023,
          159616,
          195581,
          361315,
          326644
         ],
         "year": [
          2011,
          2012,
          2013,
          2014,
          2015,
          2016,
          2017,
          2018,
          2019
         ]
        },
        "schema": {
         "fields": [
          {
           "name": "index",
           "type": "integer"
          },
          {
           "name": "year",
           "type": "integer"
          },
          {
           "name": "sales",
           "type": "number"
          }
         ],
         "pandas_version": "1.4.0",
         "primaryKey": [
          "index"
         ]
        }
       },
       "total_rows": 9,
       "truncation_type": null
      },
      "text/html": [
       "<div>\n",
       "<style scoped>\n",
       "    .dataframe tbody tr th:only-of-type {\n",
       "        vertical-align: middle;\n",
       "    }\n",
       "\n",
       "    .dataframe tbody tr th {\n",
       "        vertical-align: top;\n",
       "    }\n",
       "\n",
       "    .dataframe thead th {\n",
       "        text-align: right;\n",
       "    }\n",
       "</style>\n",
       "<table border=\"1\" class=\"dataframe\">\n",
       "  <thead>\n",
       "    <tr style=\"text-align: right;\">\n",
       "      <th></th>\n",
       "      <th>year</th>\n",
       "      <th>sales</th>\n",
       "    </tr>\n",
       "  </thead>\n",
       "  <tbody>\n",
       "    <tr>\n",
       "      <th>0</th>\n",
       "      <td>2011</td>\n",
       "      <td>17763.0</td>\n",
       "    </tr>\n",
       "    <tr>\n",
       "      <th>1</th>\n",
       "      <td>2012</td>\n",
       "      <td>53171.0</td>\n",
       "    </tr>\n",
       "    <tr>\n",
       "      <th>2</th>\n",
       "      <td>2013</td>\n",
       "      <td>97102.0</td>\n",
       "    </tr>\n",
       "    <tr>\n",
       "      <th>3</th>\n",
       "      <td>2014</td>\n",
       "      <td>118882.0</td>\n",
       "    </tr>\n",
       "    <tr>\n",
       "      <th>4</th>\n",
       "      <td>2015</td>\n",
       "      <td>114023.0</td>\n",
       "    </tr>\n",
       "    <tr>\n",
       "      <th>5</th>\n",
       "      <td>2016</td>\n",
       "      <td>159616.0</td>\n",
       "    </tr>\n",
       "    <tr>\n",
       "      <th>6</th>\n",
       "      <td>2017</td>\n",
       "      <td>195581.0</td>\n",
       "    </tr>\n",
       "    <tr>\n",
       "      <th>7</th>\n",
       "      <td>2018</td>\n",
       "      <td>361315.0</td>\n",
       "    </tr>\n",
       "    <tr>\n",
       "      <th>8</th>\n",
       "      <td>2019</td>\n",
       "      <td>326644.0</td>\n",
       "    </tr>\n",
       "  </tbody>\n",
       "</table>\n",
       "</div>"
      ],
      "text/plain": [
       "   year     sales\n",
       "0  2011   17763.0\n",
       "1  2012   53171.0\n",
       "2  2013   97102.0\n",
       "3  2014  118882.0\n",
       "4  2015  114023.0\n",
       "5  2016  159616.0\n",
       "6  2017  195581.0\n",
       "7  2018  361315.0\n",
       "8  2019  326644.0"
      ]
     },
     "execution_count": 84,
     "metadata": {},
     "output_type": "execute_result"
    }
   ],
   "source": [
    "# Inspect the data\n",
    "ev_total_sales.head(15)"
   ]
  },
  {
   "cell_type": "code",
   "execution_count": 85,
   "id": "cf5de65d-6f7e-4d3a-8f48-d3462546ae6a",
   "metadata": {
    "executionCancelledAt": null,
    "executionTime": 48,
    "lastExecutedAt": 1713703865999,
    "lastExecutedByKernel": "cbdc5322-f824-469c-9fb1-0e8b7c2bdc09",
    "lastScheduledRunId": null,
    "lastSuccessfullyExecutedCode": "# save the variable\nev_sales_2018 =361315"
   },
   "outputs": [],
   "source": [
    "# save the variable\n",
    "ev_sales_2018 =361315"
   ]
  },
  {
   "cell_type": "code",
   "execution_count": 86,
   "id": "23d4424a-0266-47dc-8287-f9291b2d131a",
   "metadata": {
    "executionCancelledAt": null,
    "executionTime": 54,
    "lastExecutedAt": 1713703866053,
    "lastExecutedByKernel": "cbdc5322-f824-469c-9fb1-0e8b7c2bdc09",
    "lastScheduledRunId": null,
    "lastSuccessfullyExecutedCode": "# Performing a left join\ndf_complete = df_temp.merge(ev_total_sales, how='left', on='year')"
   },
   "outputs": [],
   "source": [
    "# Performing a left join\n",
    "df_complete = df_temp.merge(ev_total_sales, how='left', on='year')"
   ]
  },
  {
   "cell_type": "code",
   "execution_count": 87,
   "id": "adc62b36-1eec-403a-8dd2-edf339b9b53a",
   "metadata": {
    "executionCancelledAt": null,
    "executionTime": 50,
    "lastExecutedAt": 1713703866103,
    "lastExecutedByKernel": "cbdc5322-f824-469c-9fb1-0e8b7c2bdc09",
    "lastScheduledRunId": null,
    "lastSuccessfullyExecutedCode": "df_complete",
    "outputsMetadata": {
     "0": {
      "height": 296,
      "type": "dataFrame"
     }
    }
   },
   "outputs": [
    {
     "data": {
      "application/com.datacamp.data-table.v2+json": {
       "table": {
        "data": {
         "index": [
          0,
          1,
          2,
          3,
          4,
          5,
          6,
          7,
          8
         ],
         "private_ports": [
          3695,
          4150,
          5763,
          6048,
          6812,
          9955,
          10647,
          18867,
          19993
         ],
         "private_station_locations": [
          1825,
          1962,
          2331,
          2370,
          2489,
          3078,
          2768,
          4074,
          4435
         ],
         "public_ports": [
          22470,
          26532,
          33165,
          45789,
          56842,
          73838,
          96190,
          114451,
          136513
         ],
         "public_station_locations": [
          9207,
          10710,
          13150,
          16170,
          19893,
          23282,
          28602,
          46407,
          53764
         ],
         "sales": [
          118882,
          114023,
          159616,
          195581,
          361315,
          326644,
          null,
          null,
          null
         ],
         "year": [
          2014,
          2015,
          2016,
          2017,
          2018,
          2019,
          2020,
          2021,
          2022
         ]
        },
        "schema": {
         "fields": [
          {
           "name": "index",
           "type": "integer"
          },
          {
           "name": "year",
           "type": "integer"
          },
          {
           "name": "private_ports",
           "type": "number"
          },
          {
           "name": "private_station_locations",
           "type": "number"
          },
          {
           "name": "public_ports",
           "type": "integer"
          },
          {
           "name": "public_station_locations",
           "type": "integer"
          },
          {
           "name": "sales",
           "type": "number"
          }
         ],
         "pandas_version": "1.4.0",
         "primaryKey": [
          "index"
         ]
        }
       },
       "total_rows": 9,
       "truncation_type": null
      },
      "text/html": [
       "<div>\n",
       "<style scoped>\n",
       "    .dataframe tbody tr th:only-of-type {\n",
       "        vertical-align: middle;\n",
       "    }\n",
       "\n",
       "    .dataframe tbody tr th {\n",
       "        vertical-align: top;\n",
       "    }\n",
       "\n",
       "    .dataframe thead th {\n",
       "        text-align: right;\n",
       "    }\n",
       "</style>\n",
       "<table border=\"1\" class=\"dataframe\">\n",
       "  <thead>\n",
       "    <tr style=\"text-align: right;\">\n",
       "      <th></th>\n",
       "      <th>year</th>\n",
       "      <th>private_ports</th>\n",
       "      <th>private_station_locations</th>\n",
       "      <th>public_ports</th>\n",
       "      <th>public_station_locations</th>\n",
       "      <th>sales</th>\n",
       "    </tr>\n",
       "  </thead>\n",
       "  <tbody>\n",
       "    <tr>\n",
       "      <th>0</th>\n",
       "      <td>2014</td>\n",
       "      <td>3695.0</td>\n",
       "      <td>1825.0</td>\n",
       "      <td>22470</td>\n",
       "      <td>9207</td>\n",
       "      <td>118882.0</td>\n",
       "    </tr>\n",
       "    <tr>\n",
       "      <th>1</th>\n",
       "      <td>2015</td>\n",
       "      <td>4150.0</td>\n",
       "      <td>1962.0</td>\n",
       "      <td>26532</td>\n",
       "      <td>10710</td>\n",
       "      <td>114023.0</td>\n",
       "    </tr>\n",
       "    <tr>\n",
       "      <th>2</th>\n",
       "      <td>2016</td>\n",
       "      <td>5763.0</td>\n",
       "      <td>2331.0</td>\n",
       "      <td>33165</td>\n",
       "      <td>13150</td>\n",
       "      <td>159616.0</td>\n",
       "    </tr>\n",
       "    <tr>\n",
       "      <th>3</th>\n",
       "      <td>2017</td>\n",
       "      <td>6048.0</td>\n",
       "      <td>2370.0</td>\n",
       "      <td>45789</td>\n",
       "      <td>16170</td>\n",
       "      <td>195581.0</td>\n",
       "    </tr>\n",
       "    <tr>\n",
       "      <th>4</th>\n",
       "      <td>2018</td>\n",
       "      <td>6812.0</td>\n",
       "      <td>2489.0</td>\n",
       "      <td>56842</td>\n",
       "      <td>19893</td>\n",
       "      <td>361315.0</td>\n",
       "    </tr>\n",
       "    <tr>\n",
       "      <th>5</th>\n",
       "      <td>2019</td>\n",
       "      <td>9955.0</td>\n",
       "      <td>3078.0</td>\n",
       "      <td>73838</td>\n",
       "      <td>23282</td>\n",
       "      <td>326644.0</td>\n",
       "    </tr>\n",
       "    <tr>\n",
       "      <th>6</th>\n",
       "      <td>2020</td>\n",
       "      <td>10647.0</td>\n",
       "      <td>2768.0</td>\n",
       "      <td>96190</td>\n",
       "      <td>28602</td>\n",
       "      <td>NaN</td>\n",
       "    </tr>\n",
       "    <tr>\n",
       "      <th>7</th>\n",
       "      <td>2021</td>\n",
       "      <td>18867.0</td>\n",
       "      <td>4074.0</td>\n",
       "      <td>114451</td>\n",
       "      <td>46407</td>\n",
       "      <td>NaN</td>\n",
       "    </tr>\n",
       "    <tr>\n",
       "      <th>8</th>\n",
       "      <td>2022</td>\n",
       "      <td>19993.0</td>\n",
       "      <td>4435.0</td>\n",
       "      <td>136513</td>\n",
       "      <td>53764</td>\n",
       "      <td>NaN</td>\n",
       "    </tr>\n",
       "  </tbody>\n",
       "</table>\n",
       "</div>"
      ],
      "text/plain": [
       "   year  private_ports  ...  public_station_locations     sales\n",
       "0  2014         3695.0  ...                      9207  118882.0\n",
       "1  2015         4150.0  ...                     10710  114023.0\n",
       "2  2016         5763.0  ...                     13150  159616.0\n",
       "3  2017         6048.0  ...                     16170  195581.0\n",
       "4  2018         6812.0  ...                     19893  361315.0\n",
       "5  2019         9955.0  ...                     23282  326644.0\n",
       "6  2020        10647.0  ...                     28602       NaN\n",
       "7  2021        18867.0  ...                     46407       NaN\n",
       "8  2022        19993.0  ...                     53764       NaN\n",
       "\n",
       "[9 rows x 6 columns]"
      ]
     },
     "execution_count": 87,
     "metadata": {},
     "output_type": "execute_result"
    }
   ],
   "source": [
    "df_complete"
   ]
  },
  {
   "cell_type": "code",
   "execution_count": 88,
   "id": "8c6aac0d-0f4d-4759-aab3-6fda715af2cb",
   "metadata": {
    "executionCancelledAt": null,
    "executionTime": 51,
    "lastExecutedAt": 1713703866154,
    "lastExecutedByKernel": "cbdc5322-f824-469c-9fb1-0e8b7c2bdc09",
    "lastScheduledRunId": null,
    "lastSuccessfullyExecutedCode": "df_complete.isna().sum()",
    "outputsMetadata": {
     "0": {
      "height": 221,
      "type": "dataFrame"
     }
    }
   },
   "outputs": [
    {
     "data": {
      "application/com.datacamp.data-table.v2+json": {
       "table": {
        "data": {
         "0": [
          0,
          0,
          0,
          0,
          0,
          3
         ],
         "index": [
          "year",
          "private_ports",
          "private_station_locations",
          "public_ports",
          "public_station_locations",
          "sales"
         ]
        },
        "schema": {
         "fields": [
          {
           "name": "index",
           "type": "string"
          },
          {
           "name": "0",
           "type": "integer"
          }
         ],
         "pandas_version": "1.4.0",
         "primaryKey": [
          "index"
         ]
        }
       },
       "total_rows": 6,
       "truncation_type": null
      },
      "text/plain": [
       "year                         0\n",
       "private_ports                0\n",
       "private_station_locations    0\n",
       "public_ports                 0\n",
       "public_station_locations     0\n",
       "sales                        3\n",
       "dtype: int64"
      ]
     },
     "execution_count": 88,
     "metadata": {},
     "output_type": "execute_result"
    }
   ],
   "source": [
    "df_complete.isna().sum()"
   ]
  },
  {
   "cell_type": "code",
   "execution_count": 89,
   "id": "7b287f7f-728c-4abf-99fa-5bc0d85defeb",
   "metadata": {
    "executionCancelledAt": null,
    "executionTime": 46,
    "lastExecutedAt": 1713703866201,
    "lastExecutedByKernel": "cbdc5322-f824-469c-9fb1-0e8b7c2bdc09",
    "lastScheduledRunId": null,
    "lastSuccessfullyExecutedCode": "# Drop any rows with null values\ndf_complete = df_complete.dropna(subset='sales')"
   },
   "outputs": [],
   "source": [
    "# Drop any rows with null values\n",
    "df_complete = df_complete.dropna(subset='sales')"
   ]
  },
  {
   "cell_type": "code",
   "execution_count": 90,
   "id": "95a535ff-1142-4b7c-802d-1af77f90e9bb",
   "metadata": {
    "executionCancelledAt": null,
    "executionTime": 59,
    "lastExecutedAt": 1713703866261,
    "lastExecutedByKernel": "cbdc5322-f824-469c-9fb1-0e8b7c2bdc09",
    "lastScheduledRunId": null,
    "lastSuccessfullyExecutedCode": "df_complete",
    "outputsMetadata": {
     "0": {
      "height": 221,
      "type": "dataFrame"
     }
    }
   },
   "outputs": [
    {
     "data": {
      "application/com.datacamp.data-table.v2+json": {
       "table": {
        "data": {
         "index": [
          0,
          1,
          2,
          3,
          4,
          5
         ],
         "private_ports": [
          3695,
          4150,
          5763,
          6048,
          6812,
          9955
         ],
         "private_station_locations": [
          1825,
          1962,
          2331,
          2370,
          2489,
          3078
         ],
         "public_ports": [
          22470,
          26532,
          33165,
          45789,
          56842,
          73838
         ],
         "public_station_locations": [
          9207,
          10710,
          13150,
          16170,
          19893,
          23282
         ],
         "sales": [
          118882,
          114023,
          159616,
          195581,
          361315,
          326644
         ],
         "year": [
          2014,
          2015,
          2016,
          2017,
          2018,
          2019
         ]
        },
        "schema": {
         "fields": [
          {
           "name": "index",
           "type": "integer"
          },
          {
           "name": "year",
           "type": "integer"
          },
          {
           "name": "private_ports",
           "type": "number"
          },
          {
           "name": "private_station_locations",
           "type": "number"
          },
          {
           "name": "public_ports",
           "type": "integer"
          },
          {
           "name": "public_station_locations",
           "type": "integer"
          },
          {
           "name": "sales",
           "type": "number"
          }
         ],
         "pandas_version": "1.4.0",
         "primaryKey": [
          "index"
         ]
        }
       },
       "total_rows": 6,
       "truncation_type": null
      },
      "text/html": [
       "<div>\n",
       "<style scoped>\n",
       "    .dataframe tbody tr th:only-of-type {\n",
       "        vertical-align: middle;\n",
       "    }\n",
       "\n",
       "    .dataframe tbody tr th {\n",
       "        vertical-align: top;\n",
       "    }\n",
       "\n",
       "    .dataframe thead th {\n",
       "        text-align: right;\n",
       "    }\n",
       "</style>\n",
       "<table border=\"1\" class=\"dataframe\">\n",
       "  <thead>\n",
       "    <tr style=\"text-align: right;\">\n",
       "      <th></th>\n",
       "      <th>year</th>\n",
       "      <th>private_ports</th>\n",
       "      <th>private_station_locations</th>\n",
       "      <th>public_ports</th>\n",
       "      <th>public_station_locations</th>\n",
       "      <th>sales</th>\n",
       "    </tr>\n",
       "  </thead>\n",
       "  <tbody>\n",
       "    <tr>\n",
       "      <th>0</th>\n",
       "      <td>2014</td>\n",
       "      <td>3695.0</td>\n",
       "      <td>1825.0</td>\n",
       "      <td>22470</td>\n",
       "      <td>9207</td>\n",
       "      <td>118882.0</td>\n",
       "    </tr>\n",
       "    <tr>\n",
       "      <th>1</th>\n",
       "      <td>2015</td>\n",
       "      <td>4150.0</td>\n",
       "      <td>1962.0</td>\n",
       "      <td>26532</td>\n",
       "      <td>10710</td>\n",
       "      <td>114023.0</td>\n",
       "    </tr>\n",
       "    <tr>\n",
       "      <th>2</th>\n",
       "      <td>2016</td>\n",
       "      <td>5763.0</td>\n",
       "      <td>2331.0</td>\n",
       "      <td>33165</td>\n",
       "      <td>13150</td>\n",
       "      <td>159616.0</td>\n",
       "    </tr>\n",
       "    <tr>\n",
       "      <th>3</th>\n",
       "      <td>2017</td>\n",
       "      <td>6048.0</td>\n",
       "      <td>2370.0</td>\n",
       "      <td>45789</td>\n",
       "      <td>16170</td>\n",
       "      <td>195581.0</td>\n",
       "    </tr>\n",
       "    <tr>\n",
       "      <th>4</th>\n",
       "      <td>2018</td>\n",
       "      <td>6812.0</td>\n",
       "      <td>2489.0</td>\n",
       "      <td>56842</td>\n",
       "      <td>19893</td>\n",
       "      <td>361315.0</td>\n",
       "    </tr>\n",
       "    <tr>\n",
       "      <th>5</th>\n",
       "      <td>2019</td>\n",
       "      <td>9955.0</td>\n",
       "      <td>3078.0</td>\n",
       "      <td>73838</td>\n",
       "      <td>23282</td>\n",
       "      <td>326644.0</td>\n",
       "    </tr>\n",
       "  </tbody>\n",
       "</table>\n",
       "</div>"
      ],
      "text/plain": [
       "   year  private_ports  ...  public_station_locations     sales\n",
       "0  2014         3695.0  ...                      9207  118882.0\n",
       "1  2015         4150.0  ...                     10710  114023.0\n",
       "2  2016         5763.0  ...                     13150  159616.0\n",
       "3  2017         6048.0  ...                     16170  195581.0\n",
       "4  2018         6812.0  ...                     19893  361315.0\n",
       "5  2019         9955.0  ...                     23282  326644.0\n",
       "\n",
       "[6 rows x 6 columns]"
      ]
     },
     "execution_count": 90,
     "metadata": {},
     "output_type": "execute_result"
    }
   ],
   "source": [
    "df_complete"
   ]
  },
  {
   "cell_type": "code",
   "execution_count": 91,
   "id": "4e99169a-872d-42c3-b7bc-92f4d6dc47d7",
   "metadata": {
    "executionCancelledAt": null,
    "executionTime": 218,
    "lastExecutedAt": 1713703866480,
    "lastExecutedByKernel": "cbdc5322-f824-469c-9fb1-0e8b7c2bdc09",
    "lastScheduledRunId": null,
    "lastSuccessfullyExecutedCode": "# Create a graph with multiple lines\n# Create a figure and axis object\nfig, ax = plt.subplots()\n\n# Plot each line\nsns.lineplot(data=df_complete, x='year', y='private_ports', label='Private Port')\nsns.lineplot(data=df_complete, x='year', y='public_ports', label='Public Port')\nsns.lineplot(data=df_complete, x='year', y='sales', label='Total Sales', linestyle=':')\n\n# Adding titles and labels\nax.set_title('EV Ports and Sales Over Time')\nax.set(xlabel='Year', ylabel='Count')\n\n# Show the legend\nax.legend(loc='upper left')\n\n# Show the plot\nplt.show()"
   },
   "outputs": [
    {
     "data": {
      "image/png": "[encoded data removed]",
      "text/plain": [
       "<Figure size 640x480 with 1 Axes>"
      ]
     },
     "metadata": {},
     "output_type": "display_data"
    }
   ],
   "source": [
    "# Create a graph with multiple lines\n",
    "# Create a figure and axis object\n",
    "fig, ax = plt.subplots()\n",
    "\n",
    "# Plot each line\n",
    "sns.lineplot(data=df_complete, x='year', y='private_ports', label='Private Port')\n",
    "sns.lineplot(data=df_complete, x='year', y='public_ports', label='Public Port')\n",
    "sns.lineplot(data=df_complete, x='year', y='sales', label='Total Sales', linestyle=':')\n",
    "\n",
    "# Adding titles and labels\n",
    "ax.set_title('EV Ports and Sales Over Time')\n",
    "ax.set(xlabel='Year', ylabel='Count')\n",
    "\n",
    "# Show the legend\n",
    "ax.legend(loc='upper left')\n",
    "\n",
    "# Show the plot\n",
    "plt.show()"
   ]
  },
  {
   "cell_type": "code",
   "execution_count": 92,
   "id": "609753ae-4a35-4aba-ac2f-a0a3a2ffc4cc",
   "metadata": {
    "executionCancelledAt": null,
    "executionTime": 45,
    "lastExecutedAt": 1713703866525,
    "lastExecutedByKernel": "cbdc5322-f824-469c-9fb1-0e8b7c2bdc09",
    "lastScheduledRunId": null,
    "lastSuccessfullyExecutedCode": "trend = 'same'"
   },
   "outputs": [],
   "source": [
    "trend = 'same'"
   ]
  }
 ],
 "metadata": {
  "colab": {
   "name": "Welcome to DataCamp Workspaces.ipynb",
   "provenance": []
  },
  "kernelspec": {
   "display_name": "Python 3 (ipykernel)",
   "language": "python",
   "name": "python3"
  },
  "language_info": {
   "codemirror_mode": {
    "name": "ipython",
    "version": 3
   },
   "file_extension": ".py",
   "mimetype": "text/x-python",
   "name": "python",
   "nbconvert_exporter": "python",
   "pygments_lexer": "ipython3",
   "version": "3.9.7"
  }
 },
 "nbformat": 4,
 "nbformat_minor": 5
}
